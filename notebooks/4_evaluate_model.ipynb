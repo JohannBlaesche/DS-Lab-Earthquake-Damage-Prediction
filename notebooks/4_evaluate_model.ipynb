{
 "cells": [
  {
   "cell_type": "code",
   "execution_count": null,
   "metadata": {},
   "outputs": [],
   "source": [
    "import pandas as pd\n",
    "import seaborn as sns\n",
    "import sklearn\n",
    "from dmgpred.cleaning import clean_single\n",
    "from dmgpred.featurize import featurize_single\n",
    "from joblib import load\n",
    "\n",
    "sklearn.set_config(transform_output=\"pandas\")\n",
    "\n",
    "sns.set_theme()"
   ]
  },
  {
   "cell_type": "code",
   "execution_count": null,
   "metadata": {},
   "outputs": [],
   "source": [
    "DATA_PATH = \"../data/\"\n",
    "OUTPUT_PATH = \"../output/\"\n",
    "TEST_VALUES_PATH = f\"{DATA_PATH}/test_values.csv\"\n",
    "TRAIN_VALUES_PATH = f\"{DATA_PATH}/train_values.csv\"\n",
    "TRAIN_LABELS_PATH = f\"{DATA_PATH}/train_labels.csv\"\n",
    "SUBMISSION_PATH = f\"{OUTPUT_PATH}/Mandalorians_prediction.csv\"\n",
    "INDEX_COL = \"building_id\""
   ]
  },
  {
   "cell_type": "code",
   "execution_count": null,
   "metadata": {},
   "outputs": [],
   "source": [
    "model = load(f\"{OUTPUT_PATH}trained_model.pkl\")\n",
    "classifier = model.named_steps[\"clf\"]\n",
    "feature_names = classifier.feature_names_in_\n",
    "importances = classifier.feature_importances_\n",
    "importances = pd.Series(importances, index=feature_names).sort_values(ascending=True)\n",
    "importances.plot.barh(figsize=(10, 10))"
   ]
  },
  {
   "cell_type": "code",
   "execution_count": null,
   "metadata": {},
   "outputs": [],
   "source": [
    "X_train = pd.read_csv(TRAIN_VALUES_PATH, index_col=INDEX_COL)\n",
    "y_train = pd.read_csv(TRAIN_LABELS_PATH, index_col=INDEX_COL)\n",
    "y_train = y_train[\"damage_grade\"].copy()\n",
    "X_train = clean_single(X_train)\n",
    "X_train = featurize_single(X_train)"
   ]
  },
  {
   "cell_type": "code",
   "execution_count": null,
   "metadata": {},
   "outputs": [],
   "source": [
    "model.named_steps"
   ]
  },
  {
   "cell_type": "code",
   "execution_count": null,
   "metadata": {},
   "outputs": [],
   "source": [
    "# feature_names_out = model.named_steps[\"encoder\"].get_feature_names_out()\n",
    "prep = model.named_steps[\"preprocessor\"]\n",
    "X_train_processed = prep[\"normalizer\"].transform(X_train)\n",
    "X_train_processed = prep[\"encoder\"].transform(X_train_processed)"
   ]
  },
  {
   "cell_type": "code",
   "execution_count": null,
   "metadata": {},
   "outputs": [],
   "source": [
    "import matplotlib.pyplot as plt\n",
    "from sklearn.calibration import LabelEncoder\n",
    "from sklearn.metrics import ConfusionMatrixDisplay, confusion_matrix\n",
    "from sklearn.model_selection import train_test_split\n",
    "from xgboost import XGBClassifier\n",
    "\n",
    "label_encoder = LabelEncoder()\n",
    "y_train = label_encoder.fit_transform(y_train)\n",
    "\n",
    "X_train_split, X_test_split, y_train_split, y_test_split = train_test_split(\n",
    "    X_train_processed, y_train, stratify=y_train\n",
    ")\n",
    "xgb = XGBClassifier()\n",
    "print(X_test_split.shape)\n",
    "\n",
    "xgb.fit(X_train_split, y_train_split)\n",
    "y_pred = xgb.predict(X_test_split)\n",
    "\n",
    "cm = confusion_matrix(y_test_split, y_pred)\n",
    "disp = ConfusionMatrixDisplay(confusion_matrix=cm, display_labels=xgb.classes_)\n",
    "disp.plot()\n",
    "plt.grid(False)\n",
    "plt.show()"
   ]
  },
  {
   "cell_type": "code",
   "execution_count": null,
   "metadata": {},
   "outputs": [],
   "source": [
    "from sklearn.svm import SVC\n",
    "\n",
    "svc = SVC()\n",
    "svc.fit(X_train_split, y_train_split)"
   ]
  },
  {
   "cell_type": "code",
   "execution_count": null,
   "metadata": {},
   "outputs": [],
   "source": [
    "y_pred = svc.predict(X_test_split)"
   ]
  },
  {
   "cell_type": "code",
   "execution_count": null,
   "metadata": {},
   "outputs": [],
   "source": [
    "from sklearn.metrics import f1_score, matthews_corrcoef\n",
    "\n",
    "print(matthews_corrcoef(y_test_split, y_pred))\n",
    "print(f1_score(y_test_split, y_pred, average=\"micro\"))"
   ]
  }
 ],
 "metadata": {
  "kernelspec": {
   "display_name": "venv",
   "language": "python",
   "name": "python3"
  },
  "language_info": {
   "codemirror_mode": {
    "name": "ipython",
    "version": 3
   },
   "file_extension": ".py",
   "mimetype": "text/x-python",
   "name": "python",
   "nbconvert_exporter": "python",
   "pygments_lexer": "ipython3",
   "version": "3.10.12"
  }
 },
 "nbformat": 4,
 "nbformat_minor": 2
}
