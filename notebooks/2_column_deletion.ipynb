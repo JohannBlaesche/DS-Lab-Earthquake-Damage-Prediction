{
 "cells": [
  {
   "cell_type": "code",
   "execution_count": null,
   "metadata": {},
   "outputs": [],
   "source": [
    "import matplotlib.pyplot as plt\n",
    "import numpy as np\n",
    "import pandas as pd\n",
    "import seaborn as sns"
   ]
  },
  {
   "cell_type": "code",
   "execution_count": null,
   "metadata": {},
   "outputs": [],
   "source": [
    "X_train = pd.read_csv(\"../data/train_values.csv\")\n",
    "y_train = pd.read_csv(\"../data/train_labels.csv\")"
   ]
  },
  {
   "cell_type": "markdown",
   "metadata": {},
   "source": [
    "## Only one value or very skewed distribution"
   ]
  },
  {
   "cell_type": "code",
   "execution_count": null,
   "metadata": {},
   "outputs": [],
   "source": [
    "X_train.describe()"
   ]
  },
  {
   "cell_type": "code",
   "execution_count": null,
   "metadata": {},
   "outputs": [],
   "source": [
    "nu = X_train[X_train.columns].nunique()\n",
    "nu"
   ]
  },
  {
   "cell_type": "markdown",
   "metadata": {},
   "source": [
    "### Binary columns - mostly one value occuring?"
   ]
  },
  {
   "cell_type": "markdown",
   "metadata": {},
   "source": [
    "There is no column where just one value occurs. However in the pie charts from the data exploration, some of the boolean values were displayed with a (rounded) percentage of 0%, so we should examine those more closely."
   ]
  },
  {
   "cell_type": "code",
   "execution_count": null,
   "metadata": {},
   "outputs": [],
   "source": [
    "binary_cols = [col for col in X_train.columns if col.startswith(\"has\")]\n",
    "rare_counts = []\n",
    "for col in binary_cols:\n",
    "    value_counts = X_train[col].value_counts(normalize=True)\n",
    "    if value_counts[0] >= value_counts[1]:\n",
    "        smaller_count = value_counts[1]\n",
    "    else:\n",
    "        smaller_count = value_counts[0]\n",
    "    rare_counts.append(smaller_count)\n",
    "rare_binary_values = pd.DataFrame(\n",
    "    np.array([binary_cols, rare_counts]).transpose(), columns=[\"name\", \"proportion\"]\n",
    ")\n",
    "rare_binary_values[\"proportion\"] = rare_binary_values[\"proportion\"].astype(float)\n",
    "rare_binary_values.sort_values(by=\"proportion\")"
   ]
  },
  {
   "cell_type": "markdown",
   "metadata": {},
   "source": [
    "There are 8 features where the less frequent bool value occurs in less then 1%. These could be candidates for removal."
   ]
  },
  {
   "cell_type": "markdown",
   "metadata": {},
   "source": [
    "### Categorical values"
   ]
  },
  {
   "cell_type": "code",
   "execution_count": null,
   "metadata": {},
   "outputs": [],
   "source": [
    "cat_cols = X_train.select_dtypes(include=\"object\").columns\n",
    "n = len(cat_cols)\n",
    "fig = plt.figure(figsize=(20, 20))\n",
    "for i, col in enumerate(cat_cols):\n",
    "    ax = plt.subplot(n // 3 + 1, 3, i + 1)\n",
    "    X_train[col].value_counts(normalize=True).plot.pie(autopct=\"%1.1f%%\")\n",
    "    ax.set_title(col)"
   ]
  },
  {
   "cell_type": "markdown",
   "metadata": {},
   "source": [
    "plan_configuration and legal_ownership_status have a very high proportion of the most frequent value."
   ]
  },
  {
   "cell_type": "code",
   "execution_count": null,
   "metadata": {},
   "outputs": [],
   "source": [
    "cat_cols_investigate = [\"plan_configuration\", \"legal_ownership_status\"]\n",
    "train_df = X_train.merge(y_train, on=\"building_id\")\n",
    "fig = plt.figure(figsize=(20, 10))\n",
    "for i, col in enumerate(cat_cols_investigate):\n",
    "    ax = plt.subplot(1, 2, i + 1)\n",
    "    ax = sns.countplot(data=train_df, x=col)\n",
    "    ax.bar_label(ax.containers[0])"
   ]
  },
  {
   "cell_type": "code",
   "execution_count": null,
   "metadata": {},
   "outputs": [],
   "source": [
    "fig = plt.figure(figsize=(20, 20))\n",
    "for i, col in enumerate(cat_cols_investigate):\n",
    "    ax = plt.subplot(2, 1, i + 1)\n",
    "    ax = sns.countplot(data=train_df, x=col, hue=\"damage_grade\")\n",
    "    for container in ax.containers:\n",
    "        ax.bar_label(container)"
   ]
  },
  {
   "cell_type": "markdown",
   "metadata": {},
   "source": [
    "## Duplicated/strongly correlated columns"
   ]
  },
  {
   "cell_type": "markdown",
   "metadata": {},
   "source": [
    "correlation between height of building and number of floors: possible remove one of those?"
   ]
  },
  {
   "cell_type": "markdown",
   "metadata": {},
   "source": [
    "correlation between has_secondary_use and has_secondary_use_agriculture: possibly remove one of those?"
   ]
  },
  {
   "cell_type": "markdown",
   "metadata": {},
   "source": [
    "More correlations? Need to extend multivariate data exploration"
   ]
  }
 ],
 "metadata": {
  "kernelspec": {
   "display_name": ".venv",
   "language": "python",
   "name": "python3"
  },
  "language_info": {
   "codemirror_mode": {
    "name": "ipython",
    "version": 3
   },
   "file_extension": ".py",
   "mimetype": "text/x-python",
   "name": "python",
   "nbconvert_exporter": "python",
   "pygments_lexer": "ipython3",
   "version": "3.10.11"
  }
 },
 "nbformat": 4,
 "nbformat_minor": 2
}
