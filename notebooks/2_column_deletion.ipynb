{
 "cells": [
  {
   "cell_type": "code",
   "execution_count": null,
   "metadata": {},
   "outputs": [],
   "source": [
    "import numpy as np\n",
    "import pandas as pd"
   ]
  },
  {
   "cell_type": "code",
   "execution_count": null,
   "metadata": {},
   "outputs": [],
   "source": [
    "X_train = pd.read_csv(\"../data/train_values.csv\")\n",
    "y_train = pd.read_csv(\"../data/train_labels.csv\")"
   ]
  },
  {
   "cell_type": "markdown",
   "metadata": {},
   "source": [
    "## Only one value or very skewed distribution"
   ]
  },
  {
   "cell_type": "code",
   "execution_count": null,
   "metadata": {},
   "outputs": [],
   "source": [
    "X_train.describe()"
   ]
  },
  {
   "cell_type": "code",
   "execution_count": null,
   "metadata": {},
   "outputs": [],
   "source": [
    "nu = X_train[X_train.columns].nunique()\n",
    "nu"
   ]
  },
  {
   "cell_type": "markdown",
   "metadata": {},
   "source": [
    "There is no column where just one value occurs. However in the pie charts from the data exploration, some of the boolean values were displayed with a (rounded) percentage of 0%, so we should examine those more closely."
   ]
  },
  {
   "cell_type": "code",
   "execution_count": null,
   "metadata": {},
   "outputs": [],
   "source": [
    "binary_cols = [col for col in X_train.columns if col.startswith(\"has\")]\n",
    "rare_counts = []\n",
    "for col in binary_cols:\n",
    "    value_counts = X_train[col].value_counts(normalize=True)\n",
    "    if value_counts[0] >= value_counts[1]:\n",
    "        smaller_count = value_counts[1]\n",
    "    else:\n",
    "        smaller_count = value_counts[0]\n",
    "    rare_counts.append(smaller_count)\n",
    "rare_binary_values = pd.DataFrame(\n",
    "    np.array([binary_cols, rare_counts]).transpose(), columns=[\"name\", \"proportion\"]\n",
    ")\n",
    "rare_binary_values[\"proportion\"] = rare_binary_values[\"proportion\"].astype(float)\n",
    "rare_binary_values.sort_values(by=\"proportion\")"
   ]
  },
  {
   "cell_type": "markdown",
   "metadata": {},
   "source": [
    "## Duplicated/strongly correlated columns"
   ]
  }
 ],
 "metadata": {
  "kernelspec": {
   "display_name": ".venv",
   "language": "python",
   "name": "python3"
  },
  "language_info": {
   "codemirror_mode": {
    "name": "ipython",
    "version": 3
   },
   "file_extension": ".py",
   "mimetype": "text/x-python",
   "name": "python",
   "nbconvert_exporter": "python",
   "pygments_lexer": "ipython3",
   "version": "3.10.11"
  }
 },
 "nbformat": 4,
 "nbformat_minor": 2
}
