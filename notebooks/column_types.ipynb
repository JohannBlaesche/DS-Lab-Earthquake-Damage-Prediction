{
 "cells": [
  {
   "cell_type": "code",
   "execution_count": null,
   "metadata": {},
   "outputs": [],
   "source": [
    "import pandas as pd"
   ]
  },
  {
   "cell_type": "code",
   "execution_count": null,
   "metadata": {},
   "outputs": [],
   "source": [
    "sample_submission = pd.read_csv(\"../data/submission_format.csv\")\n",
    "\n",
    "X_test = pd.read_csv(\"../data/test_values.csv\")\n",
    "X_train = pd.read_csv(\"../data/train_values.csv\")\n",
    "y_train = pd.read_csv(\"../data/train_labels.csv\")"
   ]
  },
  {
   "cell_type": "code",
   "execution_count": null,
   "metadata": {},
   "outputs": [],
   "source": [
    "X_train.dtypes"
   ]
  },
  {
   "cell_type": "code",
   "execution_count": null,
   "metadata": {},
   "outputs": [],
   "source": [
    "cat_cols = X_train.select_dtypes(include=\"object\").columns\n",
    "numeric_cols = X_train.select_dtypes(include=\"int64\").columns\n",
    "binary_cols = [col for col in X_train.columns if col.startswith(\"has\")]\n",
    "numeric_cols = [col for col in numeric_cols if col not in binary_cols]"
   ]
  },
  {
   "cell_type": "markdown",
   "metadata": {},
   "source": [
    "## Boolean Columns"
   ]
  },
  {
   "cell_type": "code",
   "execution_count": null,
   "metadata": {},
   "outputs": [],
   "source": [
    "X_train[binary_cols] = X_train[binary_cols].astype(bool)\n",
    "X_train.dtypes"
   ]
  },
  {
   "cell_type": "markdown",
   "metadata": {},
   "source": [
    "## Categorical Columns"
   ]
  },
  {
   "cell_type": "code",
   "execution_count": null,
   "metadata": {},
   "outputs": [],
   "source": [
    "X_train[cat_cols] = X_train[cat_cols].astype(\"category\")"
   ]
  },
  {
   "cell_type": "markdown",
   "metadata": {},
   "source": [
    "## Numerical columns"
   ]
  },
  {
   "cell_type": "code",
   "execution_count": null,
   "metadata": {},
   "outputs": [],
   "source": [
    "X_train[numeric_cols]"
   ]
  },
  {
   "cell_type": "code",
   "execution_count": null,
   "metadata": {},
   "outputs": [],
   "source": [
    "X_train[numeric_cols].describe()"
   ]
  },
  {
   "cell_type": "markdown",
   "metadata": {},
   "source": [
    "building_id\tis a unique identifier for each building, no numerical value  \n",
    "geo_level_1_id,\tgeo_level_2_id,\tgeo_level_3_id identify the region, Possible values: level 1: 0-30, level 2: 0-1427, level 3: 0-12567 rather categorical than int values  \n",
    "count_floors_pre_eq, age and count_families make sense as integers, but are skewed so pandas.cut() could be used, turned into categoricals      \t\n",
    "height percentage and area percentage might be more suitably displayed by a double"
   ]
  },
  {
   "cell_type": "code",
   "execution_count": null,
   "metadata": {},
   "outputs": [],
   "source": [
    "print(X_train[\"count_families\"])\n",
    "X_train[\"count_families\"] = pd.cut(\n",
    "    X_train[\"count_families\"], [0, 1, 2, 10], right=False, labels=[\"0\", \"1\", \"2+\"]\n",
    ")\n",
    "X_train[\"count_families\"]"
   ]
  },
  {
   "cell_type": "markdown",
   "metadata": {},
   "source": [
    "### Percentage columns"
   ]
  },
  {
   "cell_type": "code",
   "execution_count": null,
   "metadata": {},
   "outputs": [],
   "source": [
    "percentage_cols = [col for col in X_train.columns if col.endswith(\"percentage\")]\n",
    "X_train[percentage_cols] = X_train[percentage_cols].astype(float) / 100.0"
   ]
  },
  {
   "cell_type": "markdown",
   "metadata": {},
   "source": [
    "### ID columns"
   ]
  },
  {
   "cell_type": "code",
   "execution_count": null,
   "metadata": {},
   "outputs": [],
   "source": [
    "id_cols = [col for col in X_train.columns if col.endswith(\"id\")]\n",
    "X_train[id_cols] = X_train[id_cols].astype(\"category\")"
   ]
  },
  {
   "cell_type": "code",
   "execution_count": null,
   "metadata": {},
   "outputs": [],
   "source": [
    "X_train.dtypes"
   ]
  }
 ],
 "metadata": {
  "kernelspec": {
   "display_name": ".venv",
   "language": "python",
   "name": "python3"
  },
  "language_info": {
   "codemirror_mode": {
    "name": "ipython",
    "version": 3
   },
   "file_extension": ".py",
   "mimetype": "text/x-python",
   "name": "python",
   "nbconvert_exporter": "python",
   "pygments_lexer": "ipython3",
   "version": "3.10.11"
  }
 },
 "nbformat": 4,
 "nbformat_minor": 2
}
