{
 "cells": [
  {
   "cell_type": "code",
   "execution_count": null,
   "metadata": {},
   "outputs": [],
   "source": [
    "import matplotlib.pyplot as plt\n",
    "import numpy as np\n",
    "import pandas as pd\n",
    "import seaborn as sns\n",
    "from sklearn.decomposition import PCA, KernelPCA\n",
    "\n",
    "sns.set_theme()"
   ]
  },
  {
   "cell_type": "code",
   "execution_count": null,
   "metadata": {},
   "outputs": [],
   "source": [
    "X_train = pd.read_csv(\"../data/train_values.csv\")\n",
    "y_train = pd.read_csv(\"../data/train_labels.csv\")"
   ]
  },
  {
   "cell_type": "code",
   "execution_count": null,
   "metadata": {},
   "outputs": [],
   "source": [
    "geo_cols = [col for col in X_train.columns if col.startswith(\"geo\")]\n",
    "X_geo = X_train[geo_cols]\n",
    "print(X_geo.columns)"
   ]
  },
  {
   "cell_type": "markdown",
   "metadata": {},
   "source": [
    "geo_level_1: district  \n",
    "geo_level_2: municipality  \n",
    "geo_level_3: ward"
   ]
  },
  {
   "cell_type": "code",
   "execution_count": null,
   "metadata": {},
   "outputs": [],
   "source": [
    "for column in geo_cols:\n",
    "    print(np.unique(X_geo[column]))"
   ]
  },
  {
   "cell_type": "markdown",
   "metadata": {},
   "source": [
    "There are 31 districts, 1428 municipalities and 12567 wards."
   ]
  },
  {
   "cell_type": "markdown",
   "metadata": {},
   "source": [
    "### Dimensionality Reduction with PCA"
   ]
  },
  {
   "cell_type": "code",
   "execution_count": null,
   "metadata": {},
   "outputs": [],
   "source": [
    "x_new = PCA(n_components=2).fit_transform(X_geo)\n",
    "plt.scatter(x_new[:, 0], x_new[:, 1], s=1, c=y_train[\"damage_grade\"])\n",
    "plt.xlabel(\"PC1\")\n",
    "plt.ylabel(\"PC2\")\n",
    "plt.show()"
   ]
  },
  {
   "cell_type": "markdown",
   "metadata": {},
   "source": [
    "Dimensionality reduction from 3 to 2 with PCA did not lead to any structure being shown in the scatterplot."
   ]
  },
  {
   "cell_type": "code",
   "execution_count": null,
   "metadata": {},
   "outputs": [],
   "source": [
    "total_rows = X_geo.shape[0]\n",
    "fraction_size = int(total_rows * 0.2)\n",
    "X_geo_fraction = X_geo[0:fraction_size]\n",
    "y_train_fraction = y_train[0:fraction_size]\n",
    "x_new = KernelPCA(n_components=2, kernel=\"rbf\").fit_transform(X_geo_fraction)\n",
    "plt.scatter(x_new[:, 0], x_new[:, 1], s=5, c=y_train_fraction[\"damage_grade\"])\n",
    "plt.xlabel(\"PC1\")\n",
    "plt.ylabel(\"PC2\")\n",
    "plt.show()"
   ]
  },
  {
   "cell_type": "markdown",
   "metadata": {},
   "source": [
    "Kernel PCA initially failed with a memory error so I reduced the dataset to 20% of the data. I tried out the kernel methods sigmoid, cosine, poly and rbf to see if one of those could transform the three clumns to two in a way that showed a meaningful representation in regard to the target variable, but this was not the case"
   ]
  },
  {
   "cell_type": "markdown",
   "metadata": {},
   "source": [
    "### Check feature selection"
   ]
  },
  {
   "cell_type": "code",
   "execution_count": null,
   "metadata": {},
   "outputs": [],
   "source": [
    "from sklearn.feature_selection import mutual_info_classif\n",
    "\n",
    "mutual_info_classif(X_geo, y_train[\"damage_grade\"])"
   ]
  },
  {
   "cell_type": "markdown",
   "metadata": {},
   "source": [
    "The 3rd level of geo_ids (ward) has the highest mutual information score."
   ]
  },
  {
   "cell_type": "code",
   "execution_count": null,
   "metadata": {},
   "outputs": [],
   "source": [
    "for column in X_geo:\n",
    "    print(X_geo[column].value_counts().describe())"
   ]
  },
  {
   "cell_type": "markdown",
   "metadata": {},
   "source": [
    "There are 31 district. The most frequent district occurs 24381 times, the least frequent district 265 times.  \n",
    "The 1414 municipalities occur between 1 and 4038 times. The 11595 wards occurs between 1 and 615 times.  \n",
    "Therefore for feature selection, just using the ward might be too finegranular."
   ]
  }
 ],
 "metadata": {
  "kernelspec": {
   "display_name": "venv",
   "language": "python",
   "name": "python3"
  },
  "language_info": {
   "codemirror_mode": {
    "name": "ipython",
    "version": 3
   },
   "file_extension": ".py",
   "mimetype": "text/x-python",
   "name": "python",
   "nbconvert_exporter": "python",
   "pygments_lexer": "ipython3",
   "version": "3.10.12"
  }
 },
 "nbformat": 4,
 "nbformat_minor": 2
}
