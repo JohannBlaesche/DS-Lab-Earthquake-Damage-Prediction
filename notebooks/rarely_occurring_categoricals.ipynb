{
 "cells": [
  {
   "cell_type": "code",
   "execution_count": null,
   "metadata": {},
   "outputs": [],
   "source": [
    "%load_ext autoreload\n",
    "%autoreload 2"
   ]
  },
  {
   "cell_type": "code",
   "execution_count": null,
   "metadata": {},
   "outputs": [],
   "source": [
    "import pandas as pd\n",
    "import seaborn as sns\n",
    "\n",
    "sns.set_theme()"
   ]
  },
  {
   "cell_type": "code",
   "execution_count": null,
   "metadata": {},
   "outputs": [],
   "source": [
    "X_test = pd.read_csv(\"../data/test_values.csv\")\n",
    "X_train = pd.read_csv(\"../data/train_values.csv\")\n",
    "y_train = pd.read_csv(\"../data/train_labels.csv\")"
   ]
  },
  {
   "cell_type": "code",
   "execution_count": null,
   "metadata": {},
   "outputs": [],
   "source": [
    "cat_cols = X_train.select_dtypes(include=\"object\").columns\n",
    "numeric_cols = X_train.select_dtypes(include=\"int64\").columns\n",
    "binary_cols = [col for col in X_train.columns if col.startswith(\"has\")]\n",
    "numeric_cols = [col for col in numeric_cols if col not in binary_cols]"
   ]
  },
  {
   "cell_type": "code",
   "execution_count": null,
   "metadata": {},
   "outputs": [],
   "source": [
    "X = pd.concat([X_train, y_train], axis=1)"
   ]
  },
  {
   "cell_type": "code",
   "execution_count": null,
   "metadata": {},
   "outputs": [],
   "source": [
    "X_cat = X_train[cat_cols]\n",
    "X_cat.head()"
   ]
  },
  {
   "cell_type": "code",
   "execution_count": null,
   "metadata": {},
   "outputs": [],
   "source": [
    "for col in cat_cols:\n",
    "    sns.catplot(data=X, x=col, kind=\"count\", hue=\"damage_grade\")"
   ]
  },
  {
   "cell_type": "code",
   "execution_count": null,
   "metadata": {},
   "outputs": [],
   "source": [
    "col = \"plan_configuration\"\n",
    "\n",
    "counts = X[col].value_counts(normalize=True).sort_values(ascending=False)\n",
    "counts"
   ]
  },
  {
   "cell_type": "code",
   "execution_count": null,
   "metadata": {},
   "outputs": [],
   "source": [
    "threshold = 0.01\n",
    "filter_out = counts[counts < 0.01].index\n",
    "filter_out"
   ]
  },
  {
   "cell_type": "code",
   "execution_count": null,
   "metadata": {},
   "outputs": [],
   "source": [
    "X[col] = X[col].replace(filter_out, \"other\")"
   ]
  },
  {
   "cell_type": "code",
   "execution_count": null,
   "metadata": {},
   "outputs": [],
   "source": [
    "X[col].value_counts(normalize=True)"
   ]
  },
  {
   "cell_type": "code",
   "execution_count": null,
   "metadata": {},
   "outputs": [],
   "source": [
    "from typing import Literal\n",
    "\n",
    "\n",
    "def handle_rare_categoricals(\n",
    "    X: pd.DataFrame,\n",
    "    threshold: float = 0.01,\n",
    "    method: Literal[\"replace\", \"remove\"] = \"replace\",\n",
    "):\n",
    "    \"\"\"Handle rare categories in a categorical column.\"\"\"\n",
    "    X = X.copy()\n",
    "    cols = X.select_dtypes(include=\"object\").columns\n",
    "    for col in cols:\n",
    "        counts = X[col].value_counts(normalize=True).sort_values(ascending=False)\n",
    "        filter_out = counts[counts < threshold].index\n",
    "\n",
    "        if method == \"replace\":\n",
    "            X[col] = X[col].replace(filter_out, \"other\")\n",
    "        elif method == \"remove\":\n",
    "            X = X.loc[~X[col].isin(filter_out)]\n",
    "        else:\n",
    "            raise ValueError(\"method must be either 'replace' or 'remove'\")\n",
    "    return X"
   ]
  },
  {
   "cell_type": "code",
   "execution_count": null,
   "metadata": {},
   "outputs": [],
   "source": [
    "from sklearn.preprocessing import FunctionTransformer\n",
    "\n",
    "rare_cat_transformer = FunctionTransformer(\n",
    "    handle_rare_categoricals, kw_args={\"method\": \"replace\", \"threshold\": 0.05}\n",
    ")"
   ]
  },
  {
   "cell_type": "code",
   "execution_count": null,
   "metadata": {},
   "outputs": [],
   "source": [
    "df_ = rare_cat_transformer.fit_transform(X)"
   ]
  },
  {
   "cell_type": "code",
   "execution_count": null,
   "metadata": {},
   "outputs": [],
   "source": [
    "df_[\"plan_configuration\"].value_counts(normalize=True)"
   ]
  },
  {
   "cell_type": "code",
   "execution_count": null,
   "metadata": {},
   "outputs": [],
   "source": [
    "for col in cat_cols:\n",
    "    sns.catplot(data=df_, x=col, kind=\"count\", hue=\"damage_grade\")"
   ]
  },
  {
   "cell_type": "code",
   "execution_count": null,
   "metadata": {},
   "outputs": [],
   "source": []
  }
 ],
 "metadata": {
  "kernelspec": {
   "display_name": "venv",
   "language": "python",
   "name": "python3"
  },
  "language_info": {
   "codemirror_mode": {
    "name": "ipython",
    "version": 3
   },
   "file_extension": ".py",
   "mimetype": "text/x-python",
   "name": "python",
   "nbconvert_exporter": "python",
   "pygments_lexer": "ipython3",
   "version": "3.10.13"
  }
 },
 "nbformat": 4,
 "nbformat_minor": 2
}
