{
 "cells": [
  {
   "cell_type": "code",
   "execution_count": null,
   "metadata": {},
   "outputs": [],
   "source": [
    "%load_ext autoreload\n",
    "%autoreload 2"
   ]
  },
  {
   "cell_type": "code",
   "execution_count": null,
   "metadata": {},
   "outputs": [],
   "source": [
    "import pandas as pd\n",
    "\n",
    "X = pd.read_csv(\"../data/train_values.csv\")\n",
    "y = pd.read_csv(\"../data/train_labels.csv\")\n",
    "y = y.set_index(\"building_id\")\n",
    "X = X.set_index(\"building_id\")"
   ]
  },
  {
   "cell_type": "code",
   "execution_count": null,
   "metadata": {},
   "outputs": [],
   "source": [
    "from dmgpred.cleaning import clean\n",
    "\n",
    "X = clean(X)[0]"
   ]
  },
  {
   "cell_type": "code",
   "execution_count": null,
   "metadata": {},
   "outputs": [],
   "source": [
    "X.info()"
   ]
  },
  {
   "cell_type": "code",
   "execution_count": null,
   "metadata": {},
   "outputs": [],
   "source": [
    "# invert the encoding of the one-hot encoded columns\n",
    "\n",
    "has_superstructure = [col for col in X.columns if col.startswith(\"has_superstructure\")]\n",
    "has_secondary_use = [col for col in X.columns if col.startswith(\"has_secondary_use\")]\n",
    "\n",
    "\n",
    "# pd.from_dummies(X[has_secondary_use]).head()"
   ]
  },
  {
   "cell_type": "code",
   "execution_count": null,
   "metadata": {},
   "outputs": [],
   "source": [
    "prefix = \"has_superstructure\"\n",
    "prefix_len = 2\n",
    "sep = \"_\"\n",
    "cols = [col for col in X.columns if col.startswith(prefix)]\n",
    "\n",
    "\n",
    "def reverse_multi_hot_encoding(row, cols: list[str], sep=\"_\", prefix_len=2):\n",
    "    \"\"\"Reverse the multi-hot encoding of the given cols.\"\"\"\n",
    "    suffixes = []\n",
    "    for col in cols:\n",
    "        suffix = col.split(sep)[prefix_len:]\n",
    "        suffix = sep.join(suffix)\n",
    "        if row[col] == 1:\n",
    "            suffixes.append(suffix)\n",
    "    return suffixes\n",
    "\n",
    "\n",
    "X = X.assign(\n",
    "    has_superstructure=X.apply(\n",
    "        reverse_multi_hot_encoding, axis=1, args=(cols, sep, prefix_len)\n",
    "    )\n",
    ")"
   ]
  },
  {
   "cell_type": "code",
   "execution_count": null,
   "metadata": {},
   "outputs": [],
   "source": [
    "import category_encoders as ce"
   ]
  },
  {
   "cell_type": "code",
   "execution_count": null,
   "metadata": {},
   "outputs": [],
   "source": [
    "encoder = ce.HashingEncoder(cols=\"has_superstructure\", n_components=4)\n",
    "encoder.fit_transform(X)"
   ]
  },
  {
   "cell_type": "code",
   "execution_count": null,
   "metadata": {},
   "outputs": [],
   "source": [
    "ce.TargetEncoder(cols=X.select_dtypes(include=\"category\").columns).fit_transform(X, y)"
   ]
  },
  {
   "cell_type": "code",
   "execution_count": null,
   "metadata": {},
   "outputs": [],
   "source": []
  }
 ],
 "metadata": {
  "kernelspec": {
   "display_name": "venv",
   "language": "python",
   "name": "python3"
  },
  "language_info": {
   "codemirror_mode": {
    "name": "ipython",
    "version": 3
   },
   "file_extension": ".py",
   "mimetype": "text/x-python",
   "name": "python",
   "nbconvert_exporter": "python",
   "pygments_lexer": "ipython3",
   "version": "3.10.13"
  }
 },
 "nbformat": 4,
 "nbformat_minor": 2
}
