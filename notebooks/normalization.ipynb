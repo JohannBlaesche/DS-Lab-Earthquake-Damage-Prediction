{
 "cells": [
  {
   "cell_type": "code",
   "execution_count": null,
   "metadata": {},
   "outputs": [],
   "source": [
    "import matplotlib.pyplot as plt\n",
    "import numpy as np\n",
    "import pandas as pd\n",
    "import seaborn as sns\n",
    "\n",
    "sns.set_theme()"
   ]
  },
  {
   "cell_type": "code",
   "execution_count": null,
   "metadata": {},
   "outputs": [],
   "source": [
    "X = pd.read_csv(\"../data/train_values.csv\")\n",
    "y = pd.read_csv(\"../data/train_labels.csv\")\n",
    "\n",
    "\n",
    "cat_cols = X.select_dtypes(include=\"object\").columns\n",
    "numeric_cols = X.select_dtypes(include=\"int64\").columns\n",
    "binary_cols = [col for col in X.columns if col.startswith(\"has\")]\n",
    "numeric_cols = [col for col in numeric_cols if col not in binary_cols]"
   ]
  },
  {
   "cell_type": "code",
   "execution_count": null,
   "metadata": {},
   "outputs": [],
   "source": [
    "X[numeric_cols].hist(figsize=(20, 20))"
   ]
  },
  {
   "cell_type": "code",
   "execution_count": null,
   "metadata": {},
   "outputs": [],
   "source": [
    "X[numeric_cols].plot(kind=\"box\", subplots=True, layout=(4, 4), figsize=(20, 20))"
   ]
  },
  {
   "cell_type": "code",
   "execution_count": null,
   "metadata": {},
   "outputs": [],
   "source": [
    "from sklearn.preprocessing import (\n",
    "    PowerTransformer,\n",
    "    RobustScaler,\n",
    ")"
   ]
  },
  {
   "cell_type": "code",
   "execution_count": null,
   "metadata": {},
   "outputs": [],
   "source": [
    "def compare_distribution(original, scaled, title=\"Effects of scaling\"):\n",
    "    \"\"\"Compare the distribution of the original data to the scaled data.\"\"\"\n",
    "    fig, ax = plt.subplots(1, 2, figsize=(10, 5))\n",
    "    sns.boxplot(original, ax=ax[0])\n",
    "    sns.boxplot(scaled, ax=ax[1])\n",
    "    ax[0].set_title(\"Original Data\")\n",
    "    ax[1].set_title(\"Normalized Data\")\n",
    "    fig.suptitle(title)\n",
    "    plt.tight_layout()\n",
    "    plt.show()"
   ]
  },
  {
   "cell_type": "code",
   "execution_count": null,
   "metadata": {},
   "outputs": [],
   "source": [
    "col = \"age\"\n",
    "\n",
    "scaler = RobustScaler()\n",
    "\n",
    "scaled = scaler.fit_transform(X[[col]]).ravel()\n",
    "\n",
    "compare_distribution(X[col], scaled, title=f\"RobustScaler on {col}\")"
   ]
  },
  {
   "cell_type": "code",
   "execution_count": null,
   "metadata": {},
   "outputs": [],
   "source": [
    "sns.ecdfplot(X[col])"
   ]
  },
  {
   "cell_type": "code",
   "execution_count": null,
   "metadata": {},
   "outputs": [],
   "source": [
    "np.percentile(X[col], [90, 95, 98, 99, 99.5])"
   ]
  },
  {
   "cell_type": "code",
   "execution_count": null,
   "metadata": {},
   "outputs": [],
   "source": [
    "# clip at 99th percentile\n",
    "clip_value = np.percentile(X[col], 99)"
   ]
  },
  {
   "cell_type": "code",
   "execution_count": null,
   "metadata": {},
   "outputs": [],
   "source": [
    "scaled = X[col].clip(0, clip_value)\n",
    "compare_distribution(X[col], scaled, title=f\"Clipped {col}\")"
   ]
  },
  {
   "cell_type": "code",
   "execution_count": null,
   "metadata": {},
   "outputs": [],
   "source": [
    "scaler = PowerTransformer(method=\"yeo-johnson\")\n",
    "scaled = scaler.fit_transform(X[[col]]).ravel()\n",
    "compare_distribution(X[col], scaled, title=f\"PowerTransformer on {col}\")"
   ]
  },
  {
   "cell_type": "code",
   "execution_count": null,
   "metadata": {},
   "outputs": [],
   "source": [
    "# alternative: turn age into categorical variable\n",
    "\n",
    "age_cat = pd.cut(\n",
    "    X[\"age\"],\n",
    "    bins=[0, 10, 20, 30, 40, 50, 60, 70, 80, 90, 100, X[\"age\"].max()],\n",
    "    ordered=True,\n",
    ")\n",
    "age_cat.value_counts().sort_index().plot(kind=\"bar\")"
   ]
  },
  {
   "cell_type": "code",
   "execution_count": null,
   "metadata": {},
   "outputs": [],
   "source": []
  }
 ],
 "metadata": {
  "kernelspec": {
   "display_name": "venv",
   "language": "python",
   "name": "python3"
  },
  "language_info": {
   "codemirror_mode": {
    "name": "ipython",
    "version": 3
   },
   "file_extension": ".py",
   "mimetype": "text/x-python",
   "name": "python",
   "nbconvert_exporter": "python",
   "pygments_lexer": "ipython3",
   "version": "3.10.13"
  }
 },
 "nbformat": 4,
 "nbformat_minor": 2
}
