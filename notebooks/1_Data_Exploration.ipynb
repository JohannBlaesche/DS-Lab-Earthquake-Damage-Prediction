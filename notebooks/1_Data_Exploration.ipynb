{
 "cells": [
  {
   "cell_type": "markdown",
   "metadata": {},
   "source": [
    "# Week 1 - Data Exploration\n"
   ]
  },
  {
   "cell_type": "code",
   "execution_count": null,
   "metadata": {},
   "outputs": [],
   "source": [
    "import matplotlib.pyplot as plt\n",
    "import pandas as pd\n",
    "import seaborn as sns\n",
    "\n",
    "sns.set_theme()"
   ]
  },
  {
   "cell_type": "code",
   "execution_count": null,
   "metadata": {},
   "outputs": [],
   "source": [
    "sample_submission = pd.read_csv(\"../data/submission_format.csv\")\n",
    "\n",
    "X_test = pd.read_csv(\"../data/test_values.csv\")\n",
    "X_train = pd.read_csv(\"../data/train_values.csv\")\n",
    "y_train = pd.read_csv(\"../data/train_labels.csv\")"
   ]
  },
  {
   "cell_type": "code",
   "execution_count": null,
   "metadata": {},
   "outputs": [],
   "source": [
    "X_train.head()"
   ]
  },
  {
   "cell_type": "code",
   "execution_count": null,
   "metadata": {},
   "outputs": [],
   "source": [
    "y_train.head()"
   ]
  },
  {
   "cell_type": "code",
   "execution_count": null,
   "metadata": {},
   "outputs": [],
   "source": [
    "X_train.info()"
   ]
  },
  {
   "cell_type": "code",
   "execution_count": null,
   "metadata": {},
   "outputs": [],
   "source": [
    "df = X_train.merge(y_train, on=\"building_id\")  # noqa: PD901\n",
    "df.info()"
   ]
  },
  {
   "cell_type": "markdown",
   "metadata": {},
   "source": [
    "## Missing Values\n",
    "\n",
    "Analyze missing values and find uninformative columns\n"
   ]
  },
  {
   "cell_type": "code",
   "execution_count": null,
   "metadata": {},
   "outputs": [],
   "source": [
    "df.isna().sum().any()"
   ]
  },
  {
   "cell_type": "markdown",
   "metadata": {},
   "source": [
    "## Univariate Analysis\n",
    "\n",
    "Analyze the distributino of individual features. Are there any imbalances or outliers?\n"
   ]
  },
  {
   "cell_type": "code",
   "execution_count": null,
   "metadata": {},
   "outputs": [],
   "source": [
    "df.damage_grade.value_counts(normalize=True).plot.pie(autopct=\"%1.1f%%\")\n",
    "plt.title(\"Damage Grade Distribution\")\n",
    "plt.show()"
   ]
  },
  {
   "cell_type": "code",
   "execution_count": null,
   "metadata": {},
   "outputs": [],
   "source": [
    "cat_cols = X_train.select_dtypes(include=\"object\").columns\n",
    "numeric_cols = X_train.select_dtypes(include=\"int64\").columns\n",
    "binary_cols = [col for col in X_train.columns if col.startswith(\"has\")]\n",
    "numeric_cols = [col for col in numeric_cols if col not in binary_cols]\n",
    "\n",
    "df[cat_cols].nunique()"
   ]
  },
  {
   "cell_type": "code",
   "execution_count": null,
   "metadata": {},
   "outputs": [],
   "source": [
    "n = len(binary_cols)\n",
    "fig = plt.figure(figsize=(20, 40))\n",
    "for i, col in enumerate(binary_cols):\n",
    "    ax = plt.subplot(n // 3 + 1, 3, i + 1)\n",
    "    df[col].value_counts(normalize=True).plot.pie(autopct=\"%1.1f%%\")\n",
    "    ax.set_title(col)"
   ]
  },
  {
   "cell_type": "code",
   "execution_count": null,
   "metadata": {},
   "outputs": [],
   "source": [
    "# correlation with target\n",
    "corr_target = df[numeric_cols + binary_cols].corrwith(y_train.damage_grade)\n",
    "corr_target.sort_values().plot.barh()"
   ]
  },
  {
   "cell_type": "code",
   "execution_count": null,
   "metadata": {},
   "outputs": [],
   "source": [
    "# visualize categorical columns\n",
    "\n",
    "n = len(cat_cols)\n",
    "fig = plt.figure(figsize=(20, 15))\n",
    "for i, col in enumerate(cat_cols):\n",
    "    ax = plt.subplot(n // 3 + 1, 3, i + 1)\n",
    "    ax = sns.countplot(data=df, x=col)"
   ]
  },
  {
   "cell_type": "markdown",
   "metadata": {},
   "source": [
    "## Multivariate Analysis\n",
    "\n",
    "Analyze relationship between features. Are there any redundancies?\n",
    "\n",
    "Analyze relationship between features and target variable. Are there any features that are highly correlated with the target variable?\n"
   ]
  },
  {
   "cell_type": "code",
   "execution_count": null,
   "metadata": {},
   "outputs": [],
   "source": [
    "corr = df[binary_cols].corr()\n",
    "sns.heatmap(corr, cmap=\"coolwarm\")"
   ]
  },
  {
   "cell_type": "code",
   "execution_count": null,
   "metadata": {},
   "outputs": [],
   "source": [
    "df[numeric_cols].hist(figsize=(20, 20))"
   ]
  },
  {
   "cell_type": "code",
   "execution_count": null,
   "metadata": {},
   "outputs": [],
   "source": [
    "df[numeric_cols].plot(kind=\"box\", subplots=True, layout=(4, 4), figsize=(20, 20))"
   ]
  }
 ],
 "metadata": {
  "kernelspec": {
   "display_name": ".venv",
   "language": "python",
   "name": "python3"
  },
  "language_info": {
   "codemirror_mode": {
    "name": "ipython",
    "version": 3
   },
   "file_extension": ".py",
   "mimetype": "text/x-python",
   "name": "python",
   "nbconvert_exporter": "python",
   "pygments_lexer": "ipython3",
   "version": "3.10.13"
  }
 },
 "nbformat": 4,
 "nbformat_minor": 2
}
