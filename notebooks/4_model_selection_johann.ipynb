{
 "cells": [
  {
   "cell_type": "code",
   "execution_count": null,
   "metadata": {},
   "outputs": [],
   "source": [
    "import seaborn as sns\n",
    "import shap\n",
    "import sklearn\n",
    "from dmgpred.utils import loading\n",
    "from joblib import load\n",
    "\n",
    "sklearn.set_config(transform_output=\"pandas\")\n",
    "\n",
    "sns.set_theme()"
   ]
  },
  {
   "cell_type": "code",
   "execution_count": null,
   "metadata": {},
   "outputs": [],
   "source": [
    "data = loading.load_data(\"../data/\", processed=True)\n",
    "X_train = data[\"X_train\"]\n",
    "X_val = data[\"X_test\"]\n",
    "y_train = data[\"y_train\"]"
   ]
  },
  {
   "cell_type": "code",
   "execution_count": null,
   "metadata": {},
   "outputs": [],
   "source": [
    "DATA_PATH = \"../data/\"\n",
    "OUTPUT_PATH = \"../output/\"\n",
    "TEST_VALUES_PATH = f\"{DATA_PATH}/test_values.csv\"\n",
    "TRAIN_VALUES_PATH = f\"{DATA_PATH}/train_values.csv\"\n",
    "TRAIN_LABELS_PATH = f\"{DATA_PATH}/train_labels.csv\"\n",
    "SUBMISSION_PATH = f\"{OUTPUT_PATH}/Mandalorians_prediction.csv\"\n",
    "INDEX_COL = \"building_id\""
   ]
  },
  {
   "cell_type": "code",
   "execution_count": null,
   "metadata": {},
   "outputs": [],
   "source": [
    "model = load(f\"{OUTPUT_PATH}trained_model.pkl\")\n",
    "\n",
    "classifier = model.named_steps[\"clf\"]\n",
    "# X_val_prcd = model.named_steps[\"preprocessor\"].transform(X_val)\n",
    "# shap_values = shap.TreeExplainer(classifier.booster_).shap_values(X_val_prcd)"
   ]
  },
  {
   "cell_type": "code",
   "execution_count": null,
   "metadata": {},
   "outputs": [],
   "source": [
    "model"
   ]
  },
  {
   "cell_type": "code",
   "execution_count": null,
   "metadata": {},
   "outputs": [],
   "source": [
    "shap_values[:, :, 2].mean(0)  # noqa: F821"
   ]
  },
  {
   "cell_type": "code",
   "execution_count": null,
   "metadata": {},
   "outputs": [],
   "source": [
    "shap_values[:, :, 2].mean(0)  # noqa: F821"
   ]
  },
  {
   "cell_type": "code",
   "execution_count": null,
   "metadata": {},
   "outputs": [],
   "source": [
    "shap.summary_plot(shap_values[:, :, 2], X_val_prcd)  # noqa: F821"
   ]
  },
  {
   "cell_type": "code",
   "execution_count": null,
   "metadata": {},
   "outputs": [],
   "source": [
    "data = model.named_steps[\"encoder\"].transform(X_val).head(5)\n",
    "# select geo level ids\n",
    "data[[col for col in data.columns if \"geo_level\" in col]]\n",
    "# model.named_steps[\"encoder\"].named_transformers_[\"geo_level\"].get_feature_names_in()"
   ]
  },
  {
   "cell_type": "code",
   "execution_count": null,
   "metadata": {},
   "outputs": [],
   "source": []
  }
 ],
 "metadata": {
  "kernelspec": {
   "display_name": "venv",
   "language": "python",
   "name": "python3"
  },
  "language_info": {
   "codemirror_mode": {
    "name": "ipython",
    "version": 3
   },
   "file_extension": ".py",
   "mimetype": "text/x-python",
   "name": "python",
   "nbconvert_exporter": "python",
   "pygments_lexer": "ipython3",
   "version": "3.10.12"
  }
 },
 "nbformat": 4,
 "nbformat_minor": 2
}
