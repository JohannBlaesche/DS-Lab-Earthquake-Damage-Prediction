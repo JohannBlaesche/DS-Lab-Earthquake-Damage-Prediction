{
 "cells": [
  {
   "cell_type": "code",
   "execution_count": null,
   "metadata": {},
   "outputs": [],
   "source": [
    "import pandas as pd\n",
    "import seaborn as sns\n",
    "import sklearn\n",
    "from dmgpred.cleaning import clean_single\n",
    "from dmgpred.featurize import featurize_single\n",
    "from joblib import load\n",
    "\n",
    "sklearn.set_config(transform_output=\"pandas\")\n",
    "\n",
    "sns.set_theme()"
   ]
  },
  {
   "cell_type": "markdown",
   "metadata": {},
   "source": [
    "## Feature importance based on mean decrease in impurity"
   ]
  },
  {
   "cell_type": "code",
   "execution_count": null,
   "metadata": {},
   "outputs": [],
   "source": [
    "DATA_PATH = \"../data/\"\n",
    "OUTPUT_PATH = \"../output/\"\n",
    "TEST_VALUES_PATH = f\"{DATA_PATH}/test_values.csv\"\n",
    "TRAIN_VALUES_PATH = f\"{DATA_PATH}/train_values.csv\"\n",
    "TRAIN_LABELS_PATH = f\"{DATA_PATH}/train_labels.csv\"\n",
    "SUBMISSION_PATH = f\"{OUTPUT_PATH}/Mandalorians_prediction.csv\"\n",
    "INDEX_COL = \"building_id\""
   ]
  },
  {
   "cell_type": "code",
   "execution_count": null,
   "metadata": {},
   "outputs": [],
   "source": [
    "model = load(f\"{OUTPUT_PATH}trained_model.pkl\")\n",
    "classifier = model.named_steps[\"clf\"]\n",
    "feature_names = classifier.feature_names_in_\n",
    "importances = classifier.feature_importances_\n",
    "importances = pd.Series(importances, index=feature_names).sort_values(ascending=True)\n",
    "importances.plot.barh(figsize=(10, 10))"
   ]
  },
  {
   "cell_type": "markdown",
   "metadata": {},
   "source": [
    "## Feature importance based on feature permutation"
   ]
  },
  {
   "cell_type": "code",
   "execution_count": null,
   "metadata": {},
   "outputs": [],
   "source": [
    "X_train = pd.read_csv(TRAIN_VALUES_PATH, index_col=INDEX_COL)\n",
    "y_train = pd.read_csv(TRAIN_LABELS_PATH, index_col=INDEX_COL)\n",
    "y_train = y_train[\"damage_grade\"].copy()\n",
    "X_train = clean_single(X_train)\n",
    "X_train = featurize_single(X_train)"
   ]
  },
  {
   "cell_type": "code",
   "execution_count": null,
   "metadata": {},
   "outputs": [],
   "source": [
    "model"
   ]
  },
  {
   "cell_type": "code",
   "execution_count": null,
   "metadata": {},
   "outputs": [],
   "source": [
    "feature_names_out = model.named_steps[\"encoder\"].get_feature_names_out()\n",
    "\n",
    "X_train_processed = model.named_steps[\"normalizer\"].transform(X_train)\n",
    "X_train_processed = model.named_steps[\"encoder\"].transform(X_train_processed)\n",
    "X_train_processed.head()"
   ]
  },
  {
   "cell_type": "code",
   "execution_count": null,
   "metadata": {},
   "outputs": [],
   "source": [
    "# gives a weird error, that I couldnt fix\n",
    "\n",
    "# perm_importances = permutation_importance(\n",
    "#     classifier,\n",
    "#     X_train_processed,\n",
    "#     y_train,\n",
    "#     random_state=0,\n",
    "#     n_repeats=1,\n",
    "#     n_jobs=-1,\n",
    "# )\n",
    "# perm_importances = pd.Series(\n",
    "#     perm_importances.importances_mean, feature_names_out\n",
    "# ).sort_values(ascending=True)\n",
    "# perm_importances.plot.barh()"
   ]
  },
  {
   "cell_type": "code",
   "execution_count": null,
   "metadata": {},
   "outputs": [],
   "source": []
  }
 ],
 "metadata": {
  "kernelspec": {
   "display_name": ".venv",
   "language": "python",
   "name": "python3"
  },
  "language_info": {
   "codemirror_mode": {
    "name": "ipython",
    "version": 3
   },
   "file_extension": ".py",
   "mimetype": "text/x-python",
   "name": "python",
   "nbconvert_exporter": "python",
   "pygments_lexer": "ipython3",
   "version": "3.10.13"
  }
 },
 "nbformat": 4,
 "nbformat_minor": 2
}
