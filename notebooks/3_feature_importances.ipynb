{
 "cells": [
  {
   "cell_type": "code",
   "execution_count": null,
   "metadata": {},
   "outputs": [],
   "source": [
    "import pandas as pd\n",
    "from dmgpred.cleaning import clean_single\n",
    "from dmgpred.featurize import featurize_single\n",
    "from joblib import load\n",
    "from sklearn.inspection import permutation_importance"
   ]
  },
  {
   "cell_type": "markdown",
   "metadata": {},
   "source": [
    "## Feature importance based on mean decrease in impurity"
   ]
  },
  {
   "cell_type": "code",
   "execution_count": null,
   "metadata": {},
   "outputs": [],
   "source": [
    "DATA_PATH = \"../data/\"\n",
    "OUTPUT_PATH = \"../output/\"\n",
    "TEST_VALUES_PATH = f\"{DATA_PATH}/test_values.csv\"\n",
    "TRAIN_VALUES_PATH = f\"{DATA_PATH}/train_values.csv\"\n",
    "TRAIN_LABELS_PATH = f\"{DATA_PATH}/train_labels.csv\"\n",
    "SUBMISSION_PATH = f\"{OUTPUT_PATH}/Mandalorians_prediction.csv\"\n",
    "INDEX_COL = \"building_id\""
   ]
  },
  {
   "cell_type": "code",
   "execution_count": null,
   "metadata": {},
   "outputs": [],
   "source": [
    "model = load(f\"{OUTPUT_PATH}trained_model.pkl\")\n",
    "classifier = model.named_steps[\"clf\"]\n",
    "feature_names = classifier.feature_names_in_\n",
    "importances = classifier.feature_importances_\n",
    "importances = pd.Series(importances, index=feature_names).sort_values(ascending=False)\n",
    "importances.plot.bar()"
   ]
  },
  {
   "cell_type": "markdown",
   "metadata": {},
   "source": [
    "## Feature importance based on feature permutation"
   ]
  },
  {
   "cell_type": "code",
   "execution_count": null,
   "metadata": {},
   "outputs": [],
   "source": [
    "X_train = pd.read_csv(TRAIN_VALUES_PATH, index_col=INDEX_COL)\n",
    "y_train = pd.read_csv(TRAIN_LABELS_PATH, index_col=INDEX_COL)\n",
    "X_train = clean_single(X_train)\n",
    "X_train = featurize_single(X_train)"
   ]
  },
  {
   "cell_type": "code",
   "execution_count": null,
   "metadata": {},
   "outputs": [],
   "source": [
    "train_feature_names = X_train.columns.tolist()\n",
    "feature_names_aligned = [name for name in feature_names if name in train_feature_names]\n",
    "perm_importances = permutation_importance(\n",
    "    classifier,\n",
    "    X_train[feature_names_aligned],\n",
    "    y_train.to_numpy().ravel(),\n",
    "    random_state=42,\n",
    "    n_repeats=1,\n",
    "    n_jobs=4,\n",
    ")\n",
    "perm_importances = pd.Series(\n",
    "    perm_importances.importances_mean, index=feature_names_aligned\n",
    ").sort_values(ascending=False)\n",
    "perm_importances.plot.bar()"
   ]
  }
 ],
 "metadata": {
  "kernelspec": {
   "display_name": ".venv",
   "language": "python",
   "name": "python3"
  },
  "language_info": {
   "codemirror_mode": {
    "name": "ipython",
    "version": 3
   },
   "file_extension": ".py",
   "mimetype": "text/x-python",
   "name": "python",
   "nbconvert_exporter": "python",
   "pygments_lexer": "ipython3",
   "version": "3.10.4"
  }
 },
 "nbformat": 4,
 "nbformat_minor": 2
}
